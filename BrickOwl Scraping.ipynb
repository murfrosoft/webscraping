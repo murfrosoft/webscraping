{
 "cells": [
  {
   "cell_type": "markdown",
   "metadata": {},
   "source": [
    "Goal: Search US sellers of Lego from the site <a href=\"https://www.brickowl.com\">BrickOwl.com</a> and look for sellers offering free shipping on Lego orders."
   ]
  },
  {
   "cell_type": "code",
   "execution_count": 89,
   "metadata": {},
   "outputs": [],
   "source": [
    "import requests\n",
    "import json\n",
    "from bs4 import BeautifulSoup\n",
    "from time import sleep"
   ]
  },
  {
   "cell_type": "code",
   "execution_count": 90,
   "metadata": {},
   "outputs": [],
   "source": [
    "def getSoup( url ):\n",
    "    headers = {'user-agent': 'my-app/0.0.1'}\n",
    "    response = requests.get( url, headers = headers)\n",
    "    #print('Status: %d' %response.status_code)\n",
    "    soup = BeautifulSoup(response.content, 'html.parser')\n",
    "    return soup"
   ]
  },
  {
   "cell_type": "code",
   "execution_count": 91,
   "metadata": {},
   "outputs": [],
   "source": [
    "url = 'https://www.brickowl.com/stores'\n",
    "soup = getSoup(url)"
   ]
  },
  {
   "cell_type": "code",
   "execution_count": 92,
   "metadata": {},
   "outputs": [
    {
     "name": "stdout",
     "output_type": "stream",
     "text": [
      "22\n"
     ]
    }
   ],
   "source": [
    "scripts = soup.find_all('script')\n",
    "print(len(scripts))\n",
    "for s in scripts:\n",
    "    if s.text.startswith('jQuery.extend'):\n",
    "        #print(s.text[31:-2])\n",
    "        d = json.loads(s.text[31:-2])"
   ]
  },
  {
   "cell_type": "code",
   "execution_count": 93,
   "metadata": {},
   "outputs": [],
   "source": [
    "stores = d['tables']['stores']['aaData']"
   ]
  },
  {
   "cell_type": "code",
   "execution_count": 94,
   "metadata": {},
   "outputs": [
    {
     "name": "stdout",
     "output_type": "stream",
     "text": [
      "Found 324 US stores\n"
     ]
    }
   ],
   "source": [
    "us_stores = []\n",
    "for s in stores:\n",
    "    link = BeautifulSoup(s[1]).a['href']\n",
    "    flag = BeautifulSoup(s[2]).span.text\n",
    "    if flag == \"United States\":\n",
    "        us_stores.append(link)\n",
    "print('Found %d US stores' %(len(us_stores)))"
   ]
  },
  {
   "cell_type": "code",
   "execution_count": 95,
   "metadata": {},
   "outputs": [
    {
     "name": "stdout",
     "output_type": "stream",
     "text": [
      "https://tonsofbricks.brickowl.com :  - \"HUGE VARIETY, LOW PRICES, ALWAYS FREE SHIPPING OVER $50 IN USA!\"\n",
      "https://brickdoor.brickowl.com :  - \"$5 flat rate USA shipping\"\n",
      "25 ...\n",
      "50 ...\n",
      "https://brickwig.brickowl.com :  - \"Free shipping on $25. Orders taken directly to post office within 24 hours.\"\n",
      "https://bricktoys4boys.brickowl.com :  - \"Now Free shipping in USA for parts over $100\"\n",
      "75 ...\n",
      "https://hideawaydesignz.brickowl.com :  - \"Fast Shipping, Customer Service\"\n",
      "https://vonveederbrick.brickowl.com :  - \"Free Domestic Shipping on orders over $50, No Minimum Order, No Lot Limits!!!\"\n",
      "https://sbe.brickowl.com :  - \"Max Shipping $9.99\"\n",
      "100 ...\n",
      "125 ...\n",
      "https://thebrickmill.brickowl.com :  - \"No limits, no fees, no minimums, fast shipping!\"\n",
      "150 ...\n",
      "https://bricksunlimited.brickowl.com :  - \"SHIPPING IN COUNTRY $3.00 OUT OF COUNTRY $13.50 WE KEEP IT SIMPLE \"\n",
      "175 ...\n",
      "https://quarkybricks.brickowl.com :  - \"$4.99 Flat Rate Shipping on all Domestic Orders\"\n",
      "200 ...\n",
      "https://wisebricks.brickowl.com :  - \"Best prices, fast shipping!\"\n",
      "225 ...\n",
      "250 ...\n",
      "275 ...\n",
      "https://purplepigeonbricks45.brickowl.com :  - \"fast shipping and low prices!\"\n",
      "300 ...\n",
      "done.\n"
     ]
    }
   ],
   "source": [
    "# look for the words \"free\" in site title or slogan\n",
    "count = 1\n",
    "searchwords = ['shipping', 'free']\n",
    "for storeurl in us_stores:\n",
    "    if count%25 == 0:\n",
    "        print(count, '...')  # print status so we can see progress as we scrape...\n",
    "    store_soup = getSoup(storeurl)\n",
    "    title = store_soup.find('h1', {'class':'store-title'})\n",
    "    slogan = store_soup.find('span', {'class':'store-slogan'})\n",
    "    found = False\n",
    "    titletext = ''\n",
    "    slogantext = ''\n",
    "    for searchword in searchwords:\n",
    "        if title is not None:\n",
    "            if searchword in title.text.lower():\n",
    "                titletext = title.text\n",
    "                found = True\n",
    "        if slogan is not None:\n",
    "            if searchword in slogan.text.lower():\n",
    "                slogantext = slogan.text\n",
    "                found = True\n",
    "    if found:\n",
    "        print(storeurl, ': %s - \"%s\"' %(titletext,slogantext))\n",
    "    sleep(1)\n",
    "    count += 1\n",
    "print('done.')"
   ]
  },
  {
   "cell_type": "code",
   "execution_count": null,
   "metadata": {},
   "outputs": [],
   "source": []
  }
 ],
 "metadata": {
  "kernelspec": {
   "display_name": "Python 3",
   "language": "python",
   "name": "python3"
  },
  "language_info": {
   "codemirror_mode": {
    "name": "ipython",
    "version": 3
   },
   "file_extension": ".py",
   "mimetype": "text/x-python",
   "name": "python",
   "nbconvert_exporter": "python",
   "pygments_lexer": "ipython3",
   "version": "3.7.3"
  }
 },
 "nbformat": 4,
 "nbformat_minor": 2
}

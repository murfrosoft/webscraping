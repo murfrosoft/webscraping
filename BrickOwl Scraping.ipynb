{
 "cells": [
  {
   "cell_type": "markdown",
   "metadata": {},
   "source": [
    "Goal: Search US sellers of Lego from the site <a href=\"https://www.brickowl.com\">BrickOwl.com</a> and look for sellers offering free shipping on Lego orders."
   ]
  },
  {
   "cell_type": "code",
   "execution_count": 1,
   "metadata": {},
   "outputs": [],
   "source": [
    "import requests\n",
    "from bs4 import BeautifulSoup\n",
    "from time import sleep"
   ]
  },
  {
   "cell_type": "code",
   "execution_count": 2,
   "metadata": {},
   "outputs": [],
   "source": [
    "def getSoup( url ):\n",
    "    response = requests.get( url )\n",
    "    soup = BeautifulSoup(response.content, 'html5lib')\n",
    "    return soup"
   ]
  },
  {
   "cell_type": "code",
   "execution_count": 3,
   "metadata": {},
   "outputs": [],
   "source": [
    "url = 'https://www.brickowl.com/stores'\n",
    "\n",
    "soup = getSoup(url)"
   ]
  },
  {
   "cell_type": "code",
   "execution_count": 4,
   "metadata": {},
   "outputs": [],
   "source": [
    "# find the table that contains all the stores.\n",
    "tablesoup = soup.find('table', {'class':'data-table'})"
   ]
  },
  {
   "cell_type": "code",
   "execution_count": 6,
   "metadata": {},
   "outputs": [
    {
     "name": "stdout",
     "output_type": "stream",
     "text": [
      "https://brickfans.brickowl.com\n",
      "https://bigbbricks.brickowl.com\n",
      "https://bricksbythepound.brickowl.com\n",
      "https://allmybricks1.brickowl.com\n",
      "https://nexusgm.brickowl.com\n",
      "https://brock.brickowl.com\n",
      "https://foundationgeneration.brickowl.com\n",
      "https://tonsofbricksgdm.brickowl.com\n",
      "https://tednflitsbricks.brickowl.com\n",
      "https://allbrickbuffet.brickowl.com\n",
      "...\n"
     ]
    }
   ],
   "source": [
    "# Extract links to all US stores\n",
    "stores = []\n",
    "for trs in tablesoup.find_all('tr'):\n",
    "    spans = trs.find_all('span')\n",
    "    if len(spans) == 2 and spans[1].text == 'United States':\n",
    "        link = trs.a['href']\n",
    "        if len(stores) < 10:\n",
    "            print(link)\n",
    "        elif len(stores) == 10:\n",
    "            print('...')\n",
    "        stores.append(link)"
   ]
  },
  {
   "cell_type": "code",
   "execution_count": 7,
   "metadata": {},
   "outputs": [],
   "source": [
    "storeurl = 'https://brickfans.brickowl.com/'\n",
    "store_soup = getSoup(storeurl)"
   ]
  },
  {
   "cell_type": "code",
   "execution_count": 11,
   "metadata": {},
   "outputs": [
    {
     "name": "stdout",
     "output_type": "stream",
     "text": [
      "25 ...\n",
      "https://brickdoor.brickowl.com :  - \"$5 flat rate shipping. Free for order over $50\"\n",
      "https://sbe.brickowl.com :  - \"Max Shipping $9.99\"\n",
      "50 ...\n",
      "https://bricktoys4boys.brickowl.com :  - \"Now Free shipping in USA for parts over $100\"\n",
      "https://brickwig.brickowl.com :  - \"Free shipping on $25. Orders taken directly to post office within 24 hours.\"\n",
      "75 ...\n",
      "https://bricksnpiecesww.brickowl.com :  - \"$100+ ORDERS - FREE OR REDUCED SHIPPING\"\n",
      "https://vonveederbrick.brickowl.com :  - \"Free Domestic Shipping on orders over $50, No Minimum Order, No Lot Limits!!!\"\n",
      "https://hideawaydesignz.brickowl.com :  - \"Fast Shipping, Customer Service\"\n",
      "100 ...\n",
      "https://handtbricks.brickowl.com :  - \"Orders over $30 get FREE SHIPPING\"\n",
      "https://thebrickmill.brickowl.com :  - \"No limits, no fees, no minimums, fast shipping!\"\n",
      "125 ...\n",
      "https://bricksunlimited.brickowl.com :  - \"SHIPPING IN COUNTRY $3.00 OUT OF COUNTRY $13.50 WE KEEP IT SIMPLE \"\n",
      "150 ...\n",
      "175 ...\n",
      "https://quarkybricks.brickowl.com :  - \"$4.99 Flat Rate Shipping on all Domestic Orders\"\n",
      "https://tbr.brickowl.com :  - \"Fast Shipping & Amazing Service!\"\n",
      "https://wisebricks.brickowl.com :  - \"Best prices, fast shipping!\"\n",
      "https://legendbricks.brickowl.com :  - \"Spend $10 and get free shipping in the U.S.!\"\n",
      "200 ...\n",
      "https://purplepigeonbricks45.brickowl.com :  - \"fast shipping and low prices!\"\n",
      "225 ...\n",
      "250 ...\n",
      "done.\n"
     ]
    }
   ],
   "source": [
    "# look for the words \"free\" in site title or slogan\n",
    "count = 1\n",
    "searchwords = ['shipping', 'free']\n",
    "for storeurl in stores:\n",
    "    if count%25 == 0:\n",
    "        print(count, '...')  # print status so we can see progress as we scrape...\n",
    "    store_soup = getSoup(storeurl)\n",
    "    title = store_soup.find('h1', {'class':'store-title'})\n",
    "    slogan = store_soup.find('span', {'class':'store-slogan'})\n",
    "    found = False\n",
    "    titletext = ''\n",
    "    slogantext = ''\n",
    "    for searchword in searchwords:\n",
    "        if title is not None:\n",
    "            if searchword in title.text.lower():\n",
    "                titletext = title.text\n",
    "                found = True\n",
    "        if slogan is not None:\n",
    "            if searchword in slogan.text.lower():\n",
    "                slogantext = slogan.text\n",
    "                found = True\n",
    "    if found:\n",
    "        print(storeurl, ': %s - \"%s\"' %(titletext,slogantext))\n",
    "    sleep(1)\n",
    "    count += 1\n",
    "print('done.')"
   ]
  },
  {
   "cell_type": "code",
   "execution_count": null,
   "metadata": {},
   "outputs": [],
   "source": []
  }
 ],
 "metadata": {
  "kernelspec": {
   "display_name": "Python 3",
   "language": "python",
   "name": "python3"
  },
  "language_info": {
   "codemirror_mode": {
    "name": "ipython",
    "version": 3
   },
   "file_extension": ".py",
   "mimetype": "text/x-python",
   "name": "python",
   "nbconvert_exporter": "python",
   "pygments_lexer": "ipython3",
   "version": "3.7.3"
  }
 },
 "nbformat": 4,
 "nbformat_minor": 2
}

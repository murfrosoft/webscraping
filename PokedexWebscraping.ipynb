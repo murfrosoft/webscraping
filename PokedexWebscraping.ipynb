{
 "cells": [
  {
   "cell_type": "markdown",
   "metadata": {},
   "source": [
    "Goal: scrape pokemon stat data from <a href=\"https://pokemondb.net/pokedex/all\">pokemondb.net</a> and generate a .csv file containing results."
   ]
  },
  {
   "cell_type": "code",
   "execution_count": 1,
   "metadata": {},
   "outputs": [],
   "source": [
    "from bs4 import BeautifulSoup\n",
    "import urllib.request\n",
    "import requests"
   ]
  },
  {
   "cell_type": "code",
   "execution_count": 2,
   "metadata": {},
   "outputs": [],
   "source": [
    "def getSoup( url ):\n",
    "    # Getting the webpage, creating a Response object.\n",
    "    response = requests.get(url)\n",
    "\n",
    "    # Extracting the source code of the page.\n",
    "    data = response.text\n",
    "\n",
    "    # Passing the source code to BeautifulSoup to create a BeautifulSoup object for it.\n",
    "    soup = BeautifulSoup(data, 'html.parser')\n",
    "    \n",
    "    return soup"
   ]
  },
  {
   "cell_type": "code",
   "execution_count": 3,
   "metadata": {},
   "outputs": [],
   "source": [
    "soup = getSoup('https://pokemondb.net/pokedex/all')"
   ]
  },
  {
   "cell_type": "code",
   "execution_count": 4,
   "metadata": {},
   "outputs": [],
   "source": [
    "table = soup.find('table', {'id':'pokedex'})"
   ]
  },
  {
   "cell_type": "code",
   "execution_count": 11,
   "metadata": {},
   "outputs": [],
   "source": [
    "rows = table.find_all('tr')[1:]  # ignore title column"
   ]
  },
  {
   "cell_type": "code",
   "execution_count": 61,
   "metadata": {},
   "outputs": [],
   "source": [
    "# Create CSV Output File\n",
    "file = open('PokemonGen8.csv','w')\n",
    "file.write('number,name,subname,type1,type2,total,hp,atk,def,spatk,spdef,speed\\n')\n",
    "for row in rows:\n",
    "    num = row.find('span',{'class':'infocard-cell-data'}).text\n",
    "    data = row.find_all('a')\n",
    "    name = data[0].text.replace('♀','').replace('♂','')\n",
    "    type1 = data[1].text\n",
    "    if( len(data)>2 ):\n",
    "        type2 = data[2].text\n",
    "    else:\n",
    "        type2 = '-na-'\n",
    "    total = row.find('td',{'class':'cell-total'}).text\n",
    "    if( row.find('small',{'class':'text-muted'}) ):\n",
    "        subname = row.find('small',{'class':'text-muted'}).text\n",
    "    else:\n",
    "        subname = '-na-'\n",
    "    stats = row.find_all('td',{'class':'cell-num'})\n",
    "    hp = stats[1].text\n",
    "    atk = stats[2].text\n",
    "    defense = stats[3].text\n",
    "    spatk = stats[4].text\n",
    "    spdef = stats[5].text\n",
    "    speed = stats[6].text\n",
    "\n",
    "    results = [num,name,subname,type1,type2, total,hp,atk,defense,spatk,spdef,speed]\n",
    "    csvformat = ','.join(results) + '\\n'\n",
    "    try:\n",
    "        file.write(csvformat)\n",
    "    except:\n",
    "        print('error:',csvformat)\n",
    "file.close()"
   ]
  },
  {
   "cell_type": "code",
   "execution_count": null,
   "metadata": {},
   "outputs": [],
   "source": []
  }
 ],
 "metadata": {
  "kernelspec": {
   "display_name": "Python 3",
   "language": "python",
   "name": "python3"
  },
  "language_info": {
   "codemirror_mode": {
    "name": "ipython",
    "version": 3
   },
   "file_extension": ".py",
   "mimetype": "text/x-python",
   "name": "python",
   "nbconvert_exporter": "python",
   "pygments_lexer": "ipython3",
   "version": "3.6.5"
  }
 },
 "nbformat": 4,
 "nbformat_minor": 2
}

{
 "cells": [
  {
   "cell_type": "markdown",
   "metadata": {},
   "source": [
    "Goal: Scrape Star Trek ratings from <a href=\"https://www.jammersreviews.com\">JammersReviews.com</a> and plot the average ratings across each series, season by season."
   ]
  },
  {
   "cell_type": "code",
   "execution_count": 1,
   "metadata": {},
   "outputs": [],
   "source": [
    "import pandas as pd\n",
    "import requests\n",
    "from bs4 import BeautifulSoup as bs"
   ]
  },
  {
   "cell_type": "code",
   "execution_count": 4,
   "metadata": {},
   "outputs": [
    {
     "data": {
      "text/html": [
       "<div>\n",
       "<style scoped>\n",
       "    .dataframe tbody tr th:only-of-type {\n",
       "        vertical-align: middle;\n",
       "    }\n",
       "\n",
       "    .dataframe tbody tr th {\n",
       "        vertical-align: top;\n",
       "    }\n",
       "\n",
       "    .dataframe thead th {\n",
       "        text-align: right;\n",
       "    }\n",
       "</style>\n",
       "<table border=\"1\" class=\"dataframe\">\n",
       "  <thead>\n",
       "    <tr style=\"text-align: right;\">\n",
       "      <th></th>\n",
       "      <th>episode</th>\n",
       "      <th>rating</th>\n",
       "      <th>season</th>\n",
       "      <th>title</th>\n",
       "    </tr>\n",
       "  </thead>\n",
       "  <tbody>\n",
       "    <tr>\n",
       "      <th>0</th>\n",
       "      <td>1</td>\n",
       "      <td>2.5</td>\n",
       "      <td>1</td>\n",
       "      <td>The Man Trap</td>\n",
       "    </tr>\n",
       "    <tr>\n",
       "      <th>1</th>\n",
       "      <td>2</td>\n",
       "      <td>3.5</td>\n",
       "      <td>1</td>\n",
       "      <td>Charlie X</td>\n",
       "    </tr>\n",
       "    <tr>\n",
       "      <th>2</th>\n",
       "      <td>3</td>\n",
       "      <td>3.0</td>\n",
       "      <td>1</td>\n",
       "      <td>Where No Man Has Gone Before</td>\n",
       "    </tr>\n",
       "    <tr>\n",
       "      <th>3</th>\n",
       "      <td>4</td>\n",
       "      <td>3.0</td>\n",
       "      <td>1</td>\n",
       "      <td>The Naked Time</td>\n",
       "    </tr>\n",
       "    <tr>\n",
       "      <th>4</th>\n",
       "      <td>5</td>\n",
       "      <td>3.5</td>\n",
       "      <td>1</td>\n",
       "      <td>The Enemy Within</td>\n",
       "    </tr>\n",
       "  </tbody>\n",
       "</table>\n",
       "</div>"
      ],
      "text/plain": [
       "   episode  rating  season                         title\n",
       "0        1     2.5       1                  The Man Trap\n",
       "1        2     3.5       1                     Charlie X\n",
       "2        3     3.0       1  Where No Man Has Gone Before\n",
       "3        4     3.0       1                The Naked Time\n",
       "4        5     3.5       1              The Enemy Within"
      ]
     },
     "execution_count": 4,
     "metadata": {},
     "output_type": "execute_result"
    }
   ],
   "source": [
    "url = 'https://www.jammersreviews.com/st-tos/'\n",
    "page = requests.get(url)\n",
    "soup = bs(page.content, 'html.parser')\n",
    "\n",
    "episodeList = []\n",
    "seasonList = []\n",
    "titleList = []\n",
    "ratingList = []\n",
    "\n",
    "episode = 1\n",
    "for h in soup.find_all('h3'):\n",
    "    if('Season' in h.text):\n",
    "        season = h.text.split(' ')[1]\n",
    "        #print('*',season)\n",
    "        setTag = h.next_sibling.next_sibling\n",
    "        shows = setTag.find_all('li')\n",
    "        for show in shows:\n",
    "            title = show.a.text\n",
    "            if not show.find('img'):\n",
    "                rating = '0'\n",
    "            else:\n",
    "                rating = show.img['alt'].split(' ')[0]\n",
    "            episodeList.append(episode)\n",
    "            seasonList.append(int(season))\n",
    "            titleList.append(title)\n",
    "            ratingList.append(float(rating))\n",
    "            #print(episode, season, title, rating)\n",
    "            episode += 1\n",
    "            #print(movie)\n",
    "\n",
    "# Create a dataframe\n",
    "frame = pd.DataFrame({'episode':episodeList,'season':seasonList,'title':titleList, 'rating':ratingList})\n",
    "frame.head()"
   ]
  },
  {
   "cell_type": "code",
   "execution_count": 6,
   "metadata": {},
   "outputs": [
    {
     "data": {
      "image/png": "[encoded data removed]",
      "text/plain": [
       "<matplotlib.figure.Figure at 0x23eaeab0240>"
      ]
     },
     "metadata": {},
     "output_type": "display_data"
    }
   ],
   "source": [
    "avrate = []\n",
    "seas = [1,2,3]\n",
    "for season in range(1,4):\n",
    "    avrate.append(sum(frame[frame['season'] == season]['rating'])/len(frame[frame['season'] == season]))\n",
    "_tos = pd.DataFrame({'average':avrate,'season':seas})\n",
    "_tos.plot.barh(x='season',y='average',rot=0,title='TOS Average Rating',legend=False, xlim=(2.0,3.5), figsize=(5,1));"
   ]
  },
  {
   "cell_type": "code",
   "execution_count": 8,
   "metadata": {},
   "outputs": [
    {
     "data": {
      "text/html": [
       "<div>\n",
       "<style scoped>\n",
       "    .dataframe tbody tr th:only-of-type {\n",
       "        vertical-align: middle;\n",
       "    }\n",
       "\n",
       "    .dataframe tbody tr th {\n",
       "        vertical-align: top;\n",
       "    }\n",
       "\n",
       "    .dataframe thead th {\n",
       "        text-align: right;\n",
       "    }\n",
       "</style>\n",
       "<table border=\"1\" class=\"dataframe\">\n",
       "  <thead>\n",
       "    <tr style=\"text-align: right;\">\n",
       "      <th></th>\n",
       "      <th>episode</th>\n",
       "      <th>rating</th>\n",
       "      <th>season</th>\n",
       "      <th>title</th>\n",
       "    </tr>\n",
       "  </thead>\n",
       "  <tbody>\n",
       "    <tr>\n",
       "      <th>0</th>\n",
       "      <td>1</td>\n",
       "      <td>3.0</td>\n",
       "      <td>1</td>\n",
       "      <td>Caretaker</td>\n",
       "    </tr>\n",
       "    <tr>\n",
       "      <th>1</th>\n",
       "      <td>2</td>\n",
       "      <td>2.5</td>\n",
       "      <td>1</td>\n",
       "      <td>Parallax</td>\n",
       "    </tr>\n",
       "    <tr>\n",
       "      <th>2</th>\n",
       "      <td>3</td>\n",
       "      <td>2.0</td>\n",
       "      <td>1</td>\n",
       "      <td>Time and Again</td>\n",
       "    </tr>\n",
       "    <tr>\n",
       "      <th>3</th>\n",
       "      <td>4</td>\n",
       "      <td>3.0</td>\n",
       "      <td>1</td>\n",
       "      <td>Phage</td>\n",
       "    </tr>\n",
       "    <tr>\n",
       "      <th>4</th>\n",
       "      <td>5</td>\n",
       "      <td>3.0</td>\n",
       "      <td>1</td>\n",
       "      <td>The Cloud</td>\n",
       "    </tr>\n",
       "  </tbody>\n",
       "</table>\n",
       "</div>"
      ],
      "text/plain": [
       "   episode  rating  season           title\n",
       "0        1     3.0       1       Caretaker\n",
       "1        2     2.5       1        Parallax\n",
       "2        3     2.0       1  Time and Again\n",
       "3        4     3.0       1           Phage\n",
       "4        5     3.0       1       The Cloud"
      ]
     },
     "execution_count": 8,
     "metadata": {},
     "output_type": "execute_result"
    }
   ],
   "source": [
    "url = 'https://www.jammersreviews.com/st-voy/'\n",
    "page = requests.get(url)\n",
    "soup = bs(page.content, 'html.parser')\n",
    "\n",
    "episodeList = []\n",
    "seasonList = []\n",
    "titleList = []\n",
    "ratingList = []\n",
    "\n",
    "episode = 1\n",
    "for h in soup.find_all('h3'):\n",
    "    if('Season' in h.text):\n",
    "        season = h.text.split(' ')[1]\n",
    "        #print('*',season)\n",
    "        setTag = h.next_sibling.next_sibling\n",
    "        shows = setTag.find_all('li')\n",
    "        for show in shows:\n",
    "            title = show.a.text\n",
    "            if 'Season Recap' in title:\n",
    "                continue\n",
    "            if not show.find('img'):\n",
    "                rating = '0'\n",
    "            else:\n",
    "                rating = show.img['alt'].split(' ')[0]\n",
    "            episodeList.append(episode)\n",
    "            seasonList.append(int(season))\n",
    "            titleList.append(title)\n",
    "            ratingList.append(float(rating))\n",
    "            #print(episode, season, title, rating)\n",
    "            episode += 1\n",
    "            #print(movie)\n",
    "\n",
    "# Create a dataframe\n",
    "frame = pd.DataFrame({'episode':episodeList,'season':seasonList,'title':titleList, 'rating':ratingList})\n",
    "frame.head()"
   ]
  },
  {
   "cell_type": "code",
   "execution_count": 9,
   "metadata": {},
   "outputs": [
    {
     "data": {
      "image/png": "[encoded data removed]",
      "text/plain": [
       "<matplotlib.figure.Figure at 0x23eae179358>"
      ]
     },
     "metadata": {},
     "output_type": "display_data"
    }
   ],
   "source": [
    "avrate = []\n",
    "seas = [1,2,3,4,5,6,7]\n",
    "for season in range(1,8):\n",
    "    avrate.append(sum(frame[frame['season'] == season]['rating'])/len(frame[frame['season'] == season]))\n",
    "_voy = pd.DataFrame({'average':avrate,'season':seas})\n",
    "#frame.plot.bar(x='episode', y='rating', rot=0)\n",
    "_voy.plot.barh(x='season',y='average',rot=0,title='Voyager Average Rating',legend=False, xlim=(2.0,3.5), figsize=(5,2));"
   ]
  },
  {
   "cell_type": "code",
   "execution_count": 11,
   "metadata": {},
   "outputs": [
    {
     "data": {
      "text/html": [
       "<div>\n",
       "<style scoped>\n",
       "    .dataframe tbody tr th:only-of-type {\n",
       "        vertical-align: middle;\n",
       "    }\n",
       "\n",
       "    .dataframe tbody tr th {\n",
       "        vertical-align: top;\n",
       "    }\n",
       "\n",
       "    .dataframe thead th {\n",
       "        text-align: right;\n",
       "    }\n",
       "</style>\n",
       "<table border=\"1\" class=\"dataframe\">\n",
       "  <thead>\n",
       "    <tr style=\"text-align: right;\">\n",
       "      <th></th>\n",
       "      <th>episode</th>\n",
       "      <th>rating</th>\n",
       "      <th>season</th>\n",
       "      <th>title</th>\n",
       "    </tr>\n",
       "  </thead>\n",
       "  <tbody>\n",
       "    <tr>\n",
       "      <th>0</th>\n",
       "      <td>1</td>\n",
       "      <td>3.5</td>\n",
       "      <td>1</td>\n",
       "      <td>Emissary</td>\n",
       "    </tr>\n",
       "    <tr>\n",
       "      <th>1</th>\n",
       "      <td>2</td>\n",
       "      <td>3.0</td>\n",
       "      <td>1</td>\n",
       "      <td>Past Prologue</td>\n",
       "    </tr>\n",
       "    <tr>\n",
       "      <th>2</th>\n",
       "      <td>3</td>\n",
       "      <td>2.0</td>\n",
       "      <td>1</td>\n",
       "      <td>A Man Alone</td>\n",
       "    </tr>\n",
       "    <tr>\n",
       "      <th>3</th>\n",
       "      <td>4</td>\n",
       "      <td>2.5</td>\n",
       "      <td>1</td>\n",
       "      <td>Babel</td>\n",
       "    </tr>\n",
       "    <tr>\n",
       "      <th>4</th>\n",
       "      <td>5</td>\n",
       "      <td>3.0</td>\n",
       "      <td>1</td>\n",
       "      <td>Captive Pursuit</td>\n",
       "    </tr>\n",
       "  </tbody>\n",
       "</table>\n",
       "</div>"
      ],
      "text/plain": [
       "   episode  rating  season            title\n",
       "0        1     3.5       1         Emissary\n",
       "1        2     3.0       1    Past Prologue\n",
       "2        3     2.0       1      A Man Alone\n",
       "3        4     2.5       1            Babel\n",
       "4        5     3.0       1  Captive Pursuit"
      ]
     },
     "execution_count": 11,
     "metadata": {},
     "output_type": "execute_result"
    }
   ],
   "source": [
    "url = 'https://www.jammersreviews.com/st-ds9/'\n",
    "page = requests.get(url)\n",
    "soup = bs(page.content, 'html.parser')\n",
    "\n",
    "episodeList = []\n",
    "seasonList = []\n",
    "titleList = []\n",
    "ratingList = []\n",
    "\n",
    "episode = 1\n",
    "for h in soup.find_all('h3'):\n",
    "    if('Season' in h.text):\n",
    "        season = h.text.split(' ')[1]\n",
    "        #print('*',season)\n",
    "        setTag = h.next_sibling.next_sibling\n",
    "        shows = setTag.find_all('li')\n",
    "        for show in shows:\n",
    "            title = show.a.text\n",
    "            if 'Season Recap' in title:\n",
    "                continue\n",
    "            if not show.find('img'):\n",
    "                rating = '0'\n",
    "            else:\n",
    "                rating = show.img['alt'].split(' ')[0]\n",
    "            episodeList.append(episode)\n",
    "            seasonList.append(int(season))\n",
    "            titleList.append(title)\n",
    "            ratingList.append(float(rating))\n",
    "            #print(episode, season, title, rating)\n",
    "            episode += 1\n",
    "            #print(movie)\n",
    "\n",
    "# Create a dataframe\n",
    "frame = pd.DataFrame({'episode':episodeList,'season':seasonList,'title':titleList, 'rating':ratingList})\n",
    "frame.head()"
   ]
  },
  {
   "cell_type": "code",
   "execution_count": 12,
   "metadata": {},
   "outputs": [
    {
     "data": {
      "image/png": "[encoded data removed]",
      "text/plain": [
       "<matplotlib.figure.Figure at 0x23eae08bef0>"
      ]
     },
     "metadata": {},
     "output_type": "display_data"
    }
   ],
   "source": [
    "avrate = []\n",
    "seas = [1,2,3,4,5,6,7]\n",
    "for season in range(1,8):\n",
    "    avrate.append(sum(frame[frame['season'] == season]['rating'])/len(frame[frame['season'] == season]))\n",
    "_ds9 = pd.DataFrame({'average':avrate,'season':seas})\n",
    "#frame.plot.bar(x='episode', y='rating', rot=0)\n",
    "_ds9.plot.barh(x='season',y='average',rot=0,title='DS9 Average Rating',legend=False, xlim=(2.0,3.5), figsize=(5,2));"
   ]
  },
  {
   "cell_type": "code",
   "execution_count": 13,
   "metadata": {},
   "outputs": [
    {
     "data": {
      "text/html": [
       "<div>\n",
       "<style scoped>\n",
       "    .dataframe tbody tr th:only-of-type {\n",
       "        vertical-align: middle;\n",
       "    }\n",
       "\n",
       "    .dataframe tbody tr th {\n",
       "        vertical-align: top;\n",
       "    }\n",
       "\n",
       "    .dataframe thead th {\n",
       "        text-align: right;\n",
       "    }\n",
       "</style>\n",
       "<table border=\"1\" class=\"dataframe\">\n",
       "  <thead>\n",
       "    <tr style=\"text-align: right;\">\n",
       "      <th></th>\n",
       "      <th>episode</th>\n",
       "      <th>rating</th>\n",
       "      <th>season</th>\n",
       "      <th>title</th>\n",
       "    </tr>\n",
       "  </thead>\n",
       "  <tbody>\n",
       "    <tr>\n",
       "      <th>0</th>\n",
       "      <td>1</td>\n",
       "      <td>2.0</td>\n",
       "      <td>1</td>\n",
       "      <td>Encounter at Farpoint</td>\n",
       "    </tr>\n",
       "    <tr>\n",
       "      <th>1</th>\n",
       "      <td>2</td>\n",
       "      <td>2.5</td>\n",
       "      <td>1</td>\n",
       "      <td>The Naked Now</td>\n",
       "    </tr>\n",
       "    <tr>\n",
       "      <th>2</th>\n",
       "      <td>3</td>\n",
       "      <td>0.5</td>\n",
       "      <td>1</td>\n",
       "      <td>Code of Honor</td>\n",
       "    </tr>\n",
       "    <tr>\n",
       "      <th>3</th>\n",
       "      <td>4</td>\n",
       "      <td>2.0</td>\n",
       "      <td>1</td>\n",
       "      <td>The Last Outpost</td>\n",
       "    </tr>\n",
       "    <tr>\n",
       "      <th>4</th>\n",
       "      <td>5</td>\n",
       "      <td>2.5</td>\n",
       "      <td>1</td>\n",
       "      <td>Where No One Has Gone Before</td>\n",
       "    </tr>\n",
       "  </tbody>\n",
       "</table>\n",
       "</div>"
      ],
      "text/plain": [
       "   episode  rating  season                         title\n",
       "0        1     2.0       1         Encounter at Farpoint\n",
       "1        2     2.5       1                 The Naked Now\n",
       "2        3     0.5       1                 Code of Honor\n",
       "3        4     2.0       1              The Last Outpost\n",
       "4        5     2.5       1  Where No One Has Gone Before"
      ]
     },
     "execution_count": 13,
     "metadata": {},
     "output_type": "execute_result"
    }
   ],
   "source": [
    "url = 'https://www.jammersreviews.com/st-tng/'\n",
    "page = requests.get(url)\n",
    "soup = bs(page.content, 'html.parser')\n",
    "\n",
    "episodeList = []\n",
    "seasonList = []\n",
    "titleList = []\n",
    "ratingList = []\n",
    "\n",
    "episode = 1\n",
    "for h in soup.find_all('h3'):\n",
    "    if('Season' in h.text):\n",
    "        season = h.text.split(' ')[1]\n",
    "        #print('*',season)\n",
    "        setTag = h.next_sibling.next_sibling\n",
    "        shows = setTag.find_all('li')\n",
    "        for show in shows:\n",
    "            title = show.a.text\n",
    "            if 'Season Recap' in title:\n",
    "                continue\n",
    "            if not show.find('img'):\n",
    "                rating = '0'\n",
    "            else:\n",
    "                rating = show.img['alt'].split(' ')[0]\n",
    "            episodeList.append(episode)\n",
    "            seasonList.append(int(season))\n",
    "            titleList.append(title)\n",
    "            ratingList.append(float(rating))\n",
    "            #print(episode, season, title, rating)\n",
    "            episode += 1\n",
    "            #print(movie)\n",
    "\n",
    "# Create a dataframe\n",
    "frame = pd.DataFrame({'episode':episodeList,'season':seasonList,'title':titleList, 'rating':ratingList})\n",
    "frame.head()"
   ]
  },
  {
   "cell_type": "code",
   "execution_count": 14,
   "metadata": {},
   "outputs": [
    {
     "data": {
      "image/png": "[encoded data removed]",
      "text/plain": [
       "<matplotlib.figure.Figure at 0x23eb0128c18>"
      ]
     },
     "metadata": {},
     "output_type": "display_data"
    }
   ],
   "source": [
    "avrate = []\n",
    "seas = [1,2,3,4,5,6,7]\n",
    "for season in range(1,8):\n",
    "    avrate.append(sum(frame[frame['season'] == season]['rating'])/len(frame[frame['season'] == season]))\n",
    "_tng = pd.DataFrame({'average':avrate,'season':seas})\n",
    "#frame.plot.bar(x='episode', y='rating', rot=0)\n",
    "_tng.plot.barh(x='season',y='average',rot=0,title='TNG Average Rating',legend=False, xlim=(2.0,3.5), figsize=(5,2));"
   ]
  },
  {
   "cell_type": "code",
   "execution_count": 15,
   "metadata": {},
   "outputs": [
    {
     "data": {
      "text/html": [
       "<div>\n",
       "<style scoped>\n",
       "    .dataframe tbody tr th:only-of-type {\n",
       "        vertical-align: middle;\n",
       "    }\n",
       "\n",
       "    .dataframe tbody tr th {\n",
       "        vertical-align: top;\n",
       "    }\n",
       "\n",
       "    .dataframe thead th {\n",
       "        text-align: right;\n",
       "    }\n",
       "</style>\n",
       "<table border=\"1\" class=\"dataframe\">\n",
       "  <thead>\n",
       "    <tr style=\"text-align: right;\">\n",
       "      <th></th>\n",
       "      <th>episode</th>\n",
       "      <th>rating</th>\n",
       "      <th>season</th>\n",
       "      <th>title</th>\n",
       "    </tr>\n",
       "  </thead>\n",
       "  <tbody>\n",
       "    <tr>\n",
       "      <th>0</th>\n",
       "      <td>1</td>\n",
       "      <td>3.0</td>\n",
       "      <td>1</td>\n",
       "      <td>Broken Bow</td>\n",
       "    </tr>\n",
       "    <tr>\n",
       "      <th>1</th>\n",
       "      <td>2</td>\n",
       "      <td>2.5</td>\n",
       "      <td>1</td>\n",
       "      <td>Fight or Flight</td>\n",
       "    </tr>\n",
       "    <tr>\n",
       "      <th>2</th>\n",
       "      <td>3</td>\n",
       "      <td>3.0</td>\n",
       "      <td>1</td>\n",
       "      <td>Strange New World</td>\n",
       "    </tr>\n",
       "    <tr>\n",
       "      <th>3</th>\n",
       "      <td>4</td>\n",
       "      <td>1.5</td>\n",
       "      <td>1</td>\n",
       "      <td>Unexpected</td>\n",
       "    </tr>\n",
       "    <tr>\n",
       "      <th>4</th>\n",
       "      <td>5</td>\n",
       "      <td>2.0</td>\n",
       "      <td>1</td>\n",
       "      <td>Terra Nova</td>\n",
       "    </tr>\n",
       "  </tbody>\n",
       "</table>\n",
       "</div>"
      ],
      "text/plain": [
       "   episode  rating  season              title\n",
       "0        1     3.0       1         Broken Bow\n",
       "1        2     2.5       1    Fight or Flight\n",
       "2        3     3.0       1  Strange New World\n",
       "3        4     1.5       1         Unexpected\n",
       "4        5     2.0       1         Terra Nova"
      ]
     },
     "execution_count": 15,
     "metadata": {},
     "output_type": "execute_result"
    }
   ],
   "source": [
    "url = 'https://www.jammersreviews.com/st-ent/'\n",
    "page = requests.get(url)\n",
    "soup = bs(page.content, 'html.parser')\n",
    "\n",
    "episodeList = []\n",
    "seasonList = []\n",
    "titleList = []\n",
    "ratingList = []\n",
    "\n",
    "episode = 1\n",
    "for h in soup.find_all('h3'):\n",
    "    if('Season' in h.text):\n",
    "        season = h.text.split(' ')[1]\n",
    "        #print('*',season)\n",
    "        setTag = h.next_sibling.next_sibling\n",
    "        shows = setTag.find_all('li')\n",
    "        for show in shows:\n",
    "            title = show.a.text\n",
    "            if 'Season Recap' in title:\n",
    "                continue\n",
    "            if not show.find('img'):\n",
    "                rating = '0'\n",
    "            else:\n",
    "                rating = show.img['alt'].split(' ')[0]\n",
    "            episodeList.append(episode)\n",
    "            seasonList.append(int(season))\n",
    "            titleList.append(title)\n",
    "            ratingList.append(float(rating))\n",
    "            #print(episode, season, title, rating)\n",
    "            episode += 1\n",
    "            #print(movie)\n",
    "\n",
    "# Create a dataframe\n",
    "frame = pd.DataFrame({'episode':episodeList,'season':seasonList,'title':titleList, 'rating':ratingList})\n",
    "frame.head()"
   ]
  },
  {
   "cell_type": "code",
   "execution_count": 16,
   "metadata": {},
   "outputs": [
    {
     "data": {
      "image/png": "[encoded data removed]",
      "text/plain": [
       "<matplotlib.figure.Figure at 0x23eb0292eb8>"
      ]
     },
     "metadata": {},
     "output_type": "display_data"
    }
   ],
   "source": [
    "avrate = []\n",
    "seas = [1,2,3,4]\n",
    "for season in range(1,5):\n",
    "    avrate.append(sum(frame[frame['season'] == season]['rating'])/len(frame[frame['season'] == season]))\n",
    "_ent = pd.DataFrame({'average':avrate,'season':seas})\n",
    "#frame.plot.bar(x='episode', y='rating', rot=0)\n",
    "_ent.plot.barh(x='season',y='average',rot=0,title='Enterprise Average Rating',legend=False, xlim=(2.0,3.5), figsize=(4,1));"
   ]
  },
  {
   "cell_type": "code",
   "execution_count": 17,
   "metadata": {},
   "outputs": [
    {
     "data": {
      "text/html": [
       "<div>\n",
       "<style scoped>\n",
       "    .dataframe tbody tr th:only-of-type {\n",
       "        vertical-align: middle;\n",
       "    }\n",
       "\n",
       "    .dataframe tbody tr th {\n",
       "        vertical-align: top;\n",
       "    }\n",
       "\n",
       "    .dataframe thead th {\n",
       "        text-align: right;\n",
       "    }\n",
       "</style>\n",
       "<table border=\"1\" class=\"dataframe\">\n",
       "  <thead>\n",
       "    <tr style=\"text-align: right;\">\n",
       "      <th></th>\n",
       "      <th>episode</th>\n",
       "      <th>rating</th>\n",
       "      <th>season</th>\n",
       "      <th>title</th>\n",
       "    </tr>\n",
       "  </thead>\n",
       "  <tbody>\n",
       "    <tr>\n",
       "      <th>0</th>\n",
       "      <td>1</td>\n",
       "      <td>3.0</td>\n",
       "      <td>1</td>\n",
       "      <td>The Vulcan Hello</td>\n",
       "    </tr>\n",
       "    <tr>\n",
       "      <th>1</th>\n",
       "      <td>2</td>\n",
       "      <td>3.0</td>\n",
       "      <td>1</td>\n",
       "      <td>Battle at the Binary Stars</td>\n",
       "    </tr>\n",
       "    <tr>\n",
       "      <th>2</th>\n",
       "      <td>3</td>\n",
       "      <td>3.0</td>\n",
       "      <td>1</td>\n",
       "      <td>Context Is for Kings</td>\n",
       "    </tr>\n",
       "    <tr>\n",
       "      <th>3</th>\n",
       "      <td>4</td>\n",
       "      <td>2.5</td>\n",
       "      <td>1</td>\n",
       "      <td>The Butcher's Knife Cares Not for the Lamb's Cry</td>\n",
       "    </tr>\n",
       "    <tr>\n",
       "      <th>4</th>\n",
       "      <td>5</td>\n",
       "      <td>2.5</td>\n",
       "      <td>1</td>\n",
       "      <td>Choose Your Pain</td>\n",
       "    </tr>\n",
       "  </tbody>\n",
       "</table>\n",
       "</div>"
      ],
      "text/plain": [
       "   episode  rating  season                                             title\n",
       "0        1     3.0       1                                  The Vulcan Hello\n",
       "1        2     3.0       1                        Battle at the Binary Stars\n",
       "2        3     3.0       1                              Context Is for Kings\n",
       "3        4     2.5       1  The Butcher's Knife Cares Not for the Lamb's Cry\n",
       "4        5     2.5       1                                  Choose Your Pain"
      ]
     },
     "execution_count": 17,
     "metadata": {},
     "output_type": "execute_result"
    }
   ],
   "source": [
    "url = 'https://www.jammersreviews.com/st-dsc/'\n",
    "page = requests.get(url)\n",
    "soup = bs(page.content, 'html.parser')\n",
    "\n",
    "episodeList = []\n",
    "seasonList = []\n",
    "titleList = []\n",
    "ratingList = []\n",
    "\n",
    "episode = 1\n",
    "for h in soup.find_all('h3'):\n",
    "    if('Season' in h.text):\n",
    "        season = h.text.split(' ')[1]\n",
    "        #print('*',season)\n",
    "        setTag = h.next_sibling.next_sibling\n",
    "        shows = setTag.find_all('li')\n",
    "        for show in shows:\n",
    "            title = show.a.text\n",
    "            if 'Season Recap' in title:\n",
    "                continue\n",
    "            if not show.find('img'):\n",
    "                rating = '0'\n",
    "            else:\n",
    "                rating = show.img['alt'].split(' ')[0]\n",
    "            episodeList.append(episode)\n",
    "            seasonList.append(int(season))\n",
    "            titleList.append(title)\n",
    "            ratingList.append(float(rating))\n",
    "            #print(episode, season, title, rating)\n",
    "            episode += 1\n",
    "            #print(movie)\n",
    "\n",
    "# Create a dataframe\n",
    "frame = pd.DataFrame({'episode':episodeList,'season':seasonList,'title':titleList, 'rating':ratingList})\n",
    "frame.head()"
   ]
  },
  {
   "cell_type": "code",
   "execution_count": 18,
   "metadata": {},
   "outputs": [
    {
     "data": {
      "image/png": "[encoded data removed]",
      "text/plain": [
       "<matplotlib.figure.Figure at 0x23eaeab04e0>"
      ]
     },
     "metadata": {},
     "output_type": "display_data"
    }
   ],
   "source": [
    "avrate = []\n",
    "seas = [1,2]\n",
    "for season in range(1,3):\n",
    "    avrate.append(sum(frame[frame['season'] == season]['rating'])/len(frame[frame['season'] == season]))\n",
    "_dis = pd.DataFrame({'average':avrate,'season':seas})\n",
    "#frame.plot.bar(x='episode', y='rating', rot=0)\n",
    "_dis.plot.barh(x='season',y='average',rot=0,title='Discovery Average Rating',legend=False, xlim=(2.0,3.5), figsize=(4,0.5));"
   ]
  },
  {
   "cell_type": "code",
   "execution_count": 19,
   "metadata": {},
   "outputs": [
    {
     "data": {
      "image/png": "[encoded data removed]",
      "text/plain": [
       "<matplotlib.figure.Figure at 0x23eb00926a0>"
      ]
     },
     "metadata": {},
     "output_type": "display_data"
    },
    {
     "data": {
      "image/png": "[encoded data removed]",
      "text/plain": [
       "<matplotlib.figure.Figure at 0x23eb04510b8>"
      ]
     },
     "metadata": {},
     "output_type": "display_data"
    },
    {
     "data": {
      "image/png": "[encoded data removed]",
      "text/plain": [
       "<matplotlib.figure.Figure at 0x23eb009ffd0>"
      ]
     },
     "metadata": {},
     "output_type": "display_data"
    },
    {
     "data": {
      "image/png": "[encoded data removed]",
      "text/plain": [
       "<matplotlib.figure.Figure at 0x23eb01c6ac8>"
      ]
     },
     "metadata": {},
     "output_type": "display_data"
    },
    {
     "data": {
      "image/png": "[encoded data removed]",
      "text/plain": [
       "<matplotlib.figure.Figure at 0x23eaff37710>"
      ]
     },
     "metadata": {},
     "output_type": "display_data"
    },
    {
     "data": {
      "image/png": "[encoded data removed]",
      "text/plain": [
       "<matplotlib.figure.Figure at 0x23eafe3bdd8>"
      ]
     },
     "metadata": {},
     "output_type": "display_data"
    }
   ],
   "source": [
    "_dis.plot.barh(x='season',y='average',rot=0,title='Discovery Average Rating',legend=False, xlim=(2.0,3.5), figsize=(5,0.4))\n",
    "_ent.plot.barh(x='season',y='average',rot=0,title='Enterprise Average Rating',legend=False, xlim=(2.0,3.5), figsize=(5,0.9))\n",
    "_voy.plot.barh(x='season',y='average',rot=0,title='Voyager Average Rating',legend=False, xlim=(2.0,3.5), figsize=(5,1.8))\n",
    "_ds9.plot.barh(x='season',y='average',rot=0,title='DS9 Average Rating',legend=False, xlim=(2.0,3.5), figsize=(5,1.8))\n",
    "_tng.plot.barh(x='season',y='average',rot=0,title='TNG Average Rating',legend=False, xlim=(2.0,3.5), figsize=(5,1.8))\n",
    "_tos.plot.barh(x='season',y='average',rot=0,title='TOS Average Rating',legend=False, xlim=(2.0,3.5), figsize=(5,.7));"
   ]
  },
  {
   "cell_type": "code",
   "execution_count": null,
   "metadata": {},
   "outputs": [],
   "source": []
  }
 ],
 "metadata": {
  "kernelspec": {
   "display_name": "Python 3",
   "language": "python",
   "name": "python3"
  },
  "language_info": {
   "codemirror_mode": {
    "name": "ipython",
    "version": 3
   },
   "file_extension": ".py",
   "mimetype": "text/x-python",
   "name": "python",
   "nbconvert_exporter": "python",
   "pygments_lexer": "ipython3",
   "version": "3.6.4"
  }
 },
 "nbformat": 4,
 "nbformat_minor": 2
}
